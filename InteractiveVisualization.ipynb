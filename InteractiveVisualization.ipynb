{
 "cells": [
  {
   "cell_type": "code",
   "execution_count": 1,
   "metadata": {},
   "outputs": [],
   "source": [
    "from sklearn.tree import DecisionTreeClassifier, export_graphviz\n",
    "from sklearn import tree\n",
    "\n",
    "from sklearn.datasets import load_wine, load_digits, load_iris\n",
    "\n",
    "from sklearn.preprocessing import StandardScaler, normalize\n",
    "from sklearn.decomposition import PCA\n",
    "\n",
    "from sklearn.manifold import TSNE\n",
    "\n",
    "from sklearn.model_selection import train_test_split\n",
    "\n",
    "from IPython.display import SVG, display\n",
    "from graphviz import Source\n",
    "from IPython.display import display                               \n",
    "from ipywidgets import interactive\n",
    "\n",
    "import matplotlib.pyplot as plt\n",
    "from matplotlib.colors import ListedColormap\n",
    "\n",
    "import numpy as np"
   ]
  },
  {
   "cell_type": "code",
   "execution_count": 2,
   "metadata": {},
   "outputs": [],
   "source": [
    "# class labels\n",
    "# labels = data.feature_names\n",
    "def plot_tree(dataset, scaling ,crit, split, depth, min_split, min_leaf=0.2):\n",
    "\n",
    "    #parameters:\n",
    "    n_classes = 2\n",
    "#     max_estimators = 30\n",
    "    cmap = plt.cm.RdYlBu\n",
    "    plot_step = 0.02  # fine step width for decision surface contours\n",
    "    plot_step_coarser = 0.5  # step widths for coarse classifier guesses\n",
    "    RANDOM_SEED = 137  # fix the seed on each iteration\n",
    "    \n",
    "# load dataset\n",
    "    if (dataset == 'wine'):\n",
    "        data = load_wine()\n",
    "    elif (dataset == 'mnist'):\n",
    "        data = load_digits()\n",
    "    elif (dataset == 'iris'):\n",
    "        data = load_iris()\n",
    "        \n",
    "    # feature matrix\n",
    "    X = data.data\n",
    "\n",
    "    # target vector\n",
    "    y = data.target\n",
    "    \n",
    "    if scaling is 'StandardScaler':\n",
    "        # Standardize the feature matrix\n",
    "        features = StandardScaler().fit_transform(X)\n",
    "        \n",
    "    elif scaling is 'normalize':\n",
    "        features = normalize(X, norm='l2')\n",
    "        \n",
    "    elif scaling is 'false':\n",
    "        features = X\n",
    "        \n",
    "    # Create a PCA that will retain 99% of variance\n",
    "    pca = PCA(n_components=n_classes, whiten=True)\n",
    "\n",
    "    # Conduct PCA\n",
    "    X = pca.fit_transform(features)\n",
    "    #test train split\n",
    "    X_train, X_test, y_train, y_test = train_test_split(X, y, test_size=0.2, random_state=RANDOM_SEED)\n",
    "    \n",
    "    estimator = DecisionTreeClassifier(random_state = 0 \n",
    "      , criterion = crit\n",
    "      , splitter = split\n",
    "      , max_depth = depth\n",
    "      , min_samples_split=min_split\n",
    "      , min_samples_leaf=min_leaf)\n",
    "    estimator.fit(X_train, y_train)\n",
    "\n",
    "    scores = estimator.score(X_test, y_test)\n",
    "\n",
    "    # Create a title for each column and the console by using str() and\n",
    "    # slicing away useless parts of the string\n",
    "    model_title = str(type(estimator)).split(\n",
    "        \".\")[-1][:-2][:-len(\"Classifier\")]\n",
    "\n",
    "    print(\"Score:\", scores)\n",
    "\n",
    "    #plotting the grid\n",
    "    fig = plt.figure()\n",
    "    ax = fig.add_subplot(1,1,1)\n",
    "\n",
    "    # Now plot the decision boundary using a fine mesh as input to a\n",
    "    # filled contour plot\n",
    "    x_min, x_max = X[:, 0].min() - 1, X[:, 0].max() + 1\n",
    "    y_min, y_max = X[:, 1].min() - 1, X[:, 1].max() + 1\n",
    "    \n",
    "    xx, yy = np.meshgrid(np.arange(x_min, x_max, plot_step),\n",
    "                         np.arange(y_min, y_max, plot_step))\n",
    "\n",
    "    Z = estimator.predict(np.c_[xx.ravel(), yy.ravel()])\n",
    "    Z = Z.reshape(xx.shape)\n",
    "    cs = plt.contourf(xx, yy, Z, cmap=cmap)\n",
    "\n",
    "    # Plot the training points, these are clustered together and have a\n",
    "    # black outline\n",
    "    plt.scatter(X[:, 0], X[:, 1], c=y,\n",
    "#                 cmap=ListedColormap(N=10), \n",
    "                cmap=cmap, #ListedColormap(['r', 'g', 'b', 'c', 'm', 'y', 'k', 'w']), \n",
    "                edgecolor='k', s=20)\n",
    "    \n",
    "    plt.show()\n",
    "    \n",
    "    graph = Source(tree.export_graphviz(estimator\n",
    "      , out_file=None\n",
    "#       , feature_names=labels\n",
    "      , class_names=True #['0', '1', '2']\n",
    "      , filled = True))\n",
    "   \n",
    "    display(SVG(graph.pipe(format='svg')))\n",
    "    \n",
    "    return estimator"
   ]
  },
  {
   "cell_type": "code",
   "execution_count": 3,
   "metadata": {},
   "outputs": [
    {
     "data": {
      "application/vnd.jupyter.widget-view+json": {
       "model_id": "c6c2d6b0a8904662a9d11df12d356ee8",
       "version_major": 2,
       "version_minor": 0
      },
      "text/plain": [
       "interactive(children=(Dropdown(description='dataset', options=('wine', 'iris', 'mnist'), value='wine'), Dropdo…"
      ]
     },
     "metadata": {},
     "output_type": "display_data"
    }
   ],
   "source": [
    "inter=interactive(plot_tree \n",
    "   , crit = [\"gini\", \"entropy\"]\n",
    "   , scaling = [\"normalize\", \"StandardScaler\",\"false\"]\n",
    "   , dataset = [\"wine\", \"iris\", \"mnist\"]\n",
    "   , split = [\"best\", \"random\"]\n",
    "   , depth=[1,2,3,4,8]\n",
    "   , min_split=(0.1,1)\n",
    "   , min_leaf=(0.1,0.5))\n",
    "\n",
    "display(inter)"
   ]
  },
  {
   "cell_type": "code",
   "execution_count": 4,
   "metadata": {},
   "outputs": [
    {
     "data": {
      "text/plain": [
       "2"
      ]
     },
     "execution_count": 4,
     "metadata": {},
     "output_type": "execute_result"
    }
   ],
   "source": [
    "data = load_wine()\n",
    "data.target.max()"
   ]
  },
  {
   "cell_type": "code",
   "execution_count": null,
   "metadata": {},
   "outputs": [],
   "source": []
  }
 ],
 "metadata": {
  "kernelspec": {
   "display_name": "Python 3",
   "language": "python",
   "name": "python3"
  },
  "language_info": {
   "codemirror_mode": {
    "name": "ipython",
    "version": 3
   },
   "file_extension": ".py",
   "mimetype": "text/x-python",
   "name": "python",
   "nbconvert_exporter": "python",
   "pygments_lexer": "ipython3",
   "version": "3.6.8"
  }
 },
 "nbformat": 4,
 "nbformat_minor": 2
}
